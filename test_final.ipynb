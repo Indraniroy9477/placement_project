{
 "cells": [
  {
   "cell_type": "code",
   "execution_count": 44,
   "id": "c0e0ac6b",
   "metadata": {},
   "outputs": [],
   "source": [
    "import os"
   ]
  },
  {
   "cell_type": "code",
   "execution_count": 45,
   "id": "ff62851c",
   "metadata": {},
   "outputs": [],
   "source": [
    "def replacedtext(search_text,replace_text):\n",
    "    pass"
   ]
  },
  {
   "cell_type": "code",
   "execution_count": 46,
   "id": "f456719a",
   "metadata": {},
   "outputs": [],
   "source": [
    "file=open(\"example.txt\",'r')"
   ]
  },
  {
   "cell_type": "code",
   "execution_count": 47,
   "id": "9a79409c",
   "metadata": {},
   "outputs": [],
   "source": [
    "data=file.read()"
   ]
  },
  {
   "cell_type": "code",
   "execution_count": 48,
   "id": "45ffa725",
   "metadata": {},
   "outputs": [
    {
     "name": "stdout",
     "output_type": "stream",
     "text": [
      "This is a placement assignment\n"
     ]
    }
   ],
   "source": [
    "print(data)"
   ]
  },
  {
   "cell_type": "code",
   "execution_count": 49,
   "id": "02f27f83",
   "metadata": {},
   "outputs": [],
   "source": [
    "search_text='placement'\n",
    "replace_text='screening'\n",
    "data=data.replace(search_text,replace_text)"
   ]
  },
  {
   "cell_type": "code",
   "execution_count": 50,
   "id": "df791665",
   "metadata": {},
   "outputs": [],
   "source": [
    "file=open('example.txt','w')"
   ]
  },
  {
   "cell_type": "code",
   "execution_count": 51,
   "id": "c5f4b595",
   "metadata": {},
   "outputs": [],
   "source": [
    "file=file.write(data)"
   ]
  },
  {
   "cell_type": "code",
   "execution_count": 52,
   "id": "c88623e6",
   "metadata": {},
   "outputs": [
    {
     "name": "stdout",
     "output_type": "stream",
     "text": [
      "Text replaced\n"
     ]
    }
   ],
   "source": [
    "print(\"Text replaced\")"
   ]
  },
  {
   "cell_type": "code",
   "execution_count": 53,
   "id": "f203d8b5",
   "metadata": {},
   "outputs": [
    {
     "name": "stdout",
     "output_type": "stream",
     "text": [
      "None\n"
     ]
    }
   ],
   "source": [
    "print (replacedtext(search_text,replace_text))"
   ]
  },
  {
   "cell_type": "code",
   "execution_count": 54,
   "id": "a41ceceb",
   "metadata": {},
   "outputs": [],
   "source": [
    "file=open(\"example.txt\",'r')"
   ]
  },
  {
   "cell_type": "code",
   "execution_count": 55,
   "id": "6e7da271",
   "metadata": {},
   "outputs": [
    {
     "name": "stdout",
     "output_type": "stream",
     "text": [
      "This is a screening assignment\n"
     ]
    }
   ],
   "source": [
    "print(file.read())"
   ]
  },
  {
   "cell_type": "code",
   "execution_count": 32,
   "id": "d750dcec",
   "metadata": {},
   "outputs": [],
   "source": [
    "file=file.close()"
   ]
  },
  {
   "cell_type": "code",
   "execution_count": null,
   "id": "e9308d0f",
   "metadata": {},
   "outputs": [],
   "source": []
  }
 ],
 "metadata": {
  "kernelspec": {
   "display_name": "Python 3 (ipykernel)",
   "language": "python",
   "name": "python3"
  },
  "language_info": {
   "codemirror_mode": {
    "name": "ipython",
    "version": 3
   },
   "file_extension": ".py",
   "mimetype": "text/x-python",
   "name": "python",
   "nbconvert_exporter": "python",
   "pygments_lexer": "ipython3",
   "version": "3.9.7"
  }
 },
 "nbformat": 4,
 "nbformat_minor": 5
}
